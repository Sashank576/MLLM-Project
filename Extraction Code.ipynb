{
 "cells": [
  {
   "cell_type": "code",
   "execution_count": 95,
   "id": "a69c3696",
   "metadata": {},
   "outputs": [],
   "source": [
    "import pandas as pd\n",
    "from collections import Counter\n",
    "import numpy as np\n",
    "from pathlib import Path"
   ]
  },
  {
   "cell_type": "code",
   "execution_count": 96,
   "id": "bcf04080",
   "metadata": {},
   "outputs": [],
   "source": [
    "#Define QID - question matching\n",
    "qids = [\"V201324\",\"V201416\", \"V202234\", \"V202257\", \"V202287\", \"V202332\", \"V202337\", \"V202348\", \"V202371\", \"V202378\"]\n",
    "name_dict = {\"V201324\" : \"Current Economy\", \"V201416\" : \"Gay Marriage\", \"V202234\" : \"Refugee Allowing\", \n",
    "            \"V202257\" : \"Income Inequality\", \"V202287\" : \"Gender Role\", \"V202332\": \"Climate Change\",\n",
    "            \"V202337\": \"Gun Regulation\", \"V202348\": \"Drug Addiction\", \"V202371\": \"Race Diversity\", \"V202378\": \"Health Insurance\"}\n",
    "\n",
    "def get_counts(path, qids): #function to get a dict with counts for each question\n",
    "\n",
    "    value_list = []\n",
    "\n",
    "    for id in qids:\n",
    "        df = pd.read_csv(path + id + \".csv\")\n",
    "        df['Response'] = pd.to_numeric(df['Response'], errors='coerce') \n",
    "\n",
    "        value_counts = Counter(df['Response'].dropna())\n",
    "\n",
    "        if id in [\"V201324\", \"V202332\"]:\n",
    "\n",
    "            answers = {i: value_counts[i] for i in range(1, 6)}\n",
    "        else:\n",
    "            answers = {i: value_counts[i] for i in range(1, 4)}\n",
    "\n",
    "        value_list.append({name_dict[id]: answers})\n",
    "\n",
    "    return value_list\n",
    "\n",
    "\n",
    "\n",
    "original_results = get_counts(\"results/main_mq_results_unzipped/full_results_2020_\", qids)\n",
    "replicate_results = get_counts(\"MLMM Results/main_mq_results/full_results_2020_\", qids)\n",
    "reformulated_results = get_counts(\"MLMM Results/main_mq_reform_results/full_results_2020_\", qids)\n",
    "reformulated_3rdP_results = get_counts(\"MLMM Results/main_mq_reform_3rdP_results/full_results_2020_\", qids)\n",
    "\n",
    "preamble_original_results = get_counts(\"MLMM Results/Preamble/Original/full_results_2020_\", qids)\n",
    "preamble_reformulated_results = get_counts(\"MLMM Results/Preamble/Reformulated/full_results_2020_\", qids)\n",
    "\n",
    "priming_original_results = get_counts(\"MLMM Results/Priming/Original/full_results_2020_\", qids)\n",
    "priming_reformulated_results = get_counts(\"MLMM Results/Priming/Reformulated/full_results_2020_\", qids)\n",
    "\n",
    "\n",
    "#Only some IDs were used for reverse-coded\n",
    "qids_reverse_coded = [\"V201416\", \"V202234\", \"V202257\", \"V202287\", \"V202332\", \"V202371\"]\n",
    "rever_coded_results = get_counts(\"MLMM Results/main_mq_reverse_results/full_results_2020_\", qids_reverse_coded)\n",
    "rever_coded_3rdP_results = get_counts(\"MLMM Results/main_mq_reverse_3rdP_results/full_results_2020_\", qids_reverse_coded)\n",
    "rever_coded_V2_results = get_counts(\"MLMM Results/main_mq_reverseV2_results/full_results_2020_\", qids_reverse_coded)\n",
    "\n",
    "#for altered prompts it's just V202287: \"Gender Role\"\n",
    "altered_prompts_results = get_counts(\"MLMM Results/Altered Prompts/1stPov/full_results_2020_\", [\"V202287\"])\n",
    "altered_prompts_3rdP_results = get_counts(\"MLMM Results/Altered Prompts/3rdPov/full_results_2020_\", [\"V202287\"])"
   ]
  },
  {
   "cell_type": "code",
   "execution_count": 97,
   "id": "18ad9de2",
   "metadata": {},
   "outputs": [
    {
     "name": "stderr",
     "output_type": "stream",
     "text": [
      "C:\\Users\\Saber\\AppData\\Local\\Temp\\ipykernel_11972\\4095551727.py:3: DtypeWarning: Columns (19,21,22,23,25,26,27,29,30,35,37,38,1508,1509) have mixed types. Specify dtype option on import or set low_memory=False.\n",
      "  anes_df = pd.read_csv(path)\n"
     ]
    }
   ],
   "source": [
    "def get_human_counts(path, qids): #getting results from anes 2020\n",
    "\n",
    "     anes_df = pd.read_csv(path)\n",
    "\n",
    "     human_values = []\n",
    "\n",
    "     for id in qids:\n",
    "\n",
    "          human_counts = Counter(anes_df[id].dropna())\n",
    "\n",
    "          if id in [\"V201324\", \"V202332\"]:\n",
    "\n",
    "               answers = {i: human_counts[i] for i in range(1, 6)}\n",
    "          else:\n",
    "               answers = {i: human_counts[i] for i in range(1, 4)}\n",
    "\n",
    "          human_values.append({name_dict[id]: answers})\n",
    "\n",
    "     return human_values\n",
    "\n",
    "human_results = get_human_counts(\"data/2020 ANES_test.csv\", qids)"
   ]
  },
  {
   "cell_type": "code",
   "execution_count": 98,
   "id": "a317354e",
   "metadata": {},
   "outputs": [],
   "source": [
    "#Recoding reverse-coded questions\n",
    "from copy import deepcopy \n",
    "\n",
    "rever_coded_results = {list(d.keys())[0]: list(d.values())[0] for d in rever_coded_results}\n",
    "rever_coded_results_copy = deepcopy(rever_coded_results)\n",
    "\n",
    "rever_coded_results[\"Gay Marriage\"][1] = rever_coded_results_copy[\"Gay Marriage\"][3]\n",
    "rever_coded_results[\"Gay Marriage\"][3] = rever_coded_results_copy[\"Gay Marriage\"][1]\n",
    "\n",
    "rever_coded_results[\"Refugee Allowing\"][1] = rever_coded_results_copy[\"Refugee Allowing\"][2]\n",
    "rever_coded_results[\"Refugee Allowing\"][2] = rever_coded_results_copy[\"Refugee Allowing\"][1]\n",
    "\n",
    "rever_coded_results[\"Income Inequality\"][1] = rever_coded_results_copy[\"Income Inequality\"][2]\n",
    "rever_coded_results[\"Income Inequality\"][2] = rever_coded_results_copy[\"Income Inequality\"][1]\n",
    "\n",
    "rever_coded_results[\"Gender Role\"][1] = rever_coded_results_copy[\"Gender Role\"][2]\n",
    "rever_coded_results[\"Gender Role\"][2] = rever_coded_results_copy[\"Gender Role\"][1]\n",
    "\n",
    "rever_coded_results[\"Climate Change\"][1] = rever_coded_results_copy[\"Climate Change\"][5]\n",
    "rever_coded_results[\"Climate Change\"][2] = rever_coded_results_copy[\"Climate Change\"][4]\n",
    "rever_coded_results[\"Climate Change\"][4] = rever_coded_results_copy[\"Climate Change\"][2]\n",
    "rever_coded_results[\"Climate Change\"][5] = rever_coded_results_copy[\"Climate Change\"][1]\n",
    "\n",
    "rever_coded_results[\"Race Diversity\"][1] = rever_coded_results_copy[\"Race Diversity\"][2]\n",
    "rever_coded_results[\"Race Diversity\"][2] = rever_coded_results_copy[\"Race Diversity\"][1]\n",
    "\n",
    "rever_coded_results = [{key: value} for key, value in rever_coded_results.items()]"
   ]
  },
  {
   "cell_type": "code",
   "execution_count": 99,
   "id": "2d7843cb",
   "metadata": {},
   "outputs": [],
   "source": [
    "rever_coded_3rdP_results = {list(d.keys())[0]: list(d.values())[0] for d in rever_coded_3rdP_results}\n",
    "rever_coded_3rdP_results_copy = deepcopy(rever_coded_3rdP_results)\n",
    "\n",
    "rever_coded_3rdP_results[\"Gay Marriage\"][1] = rever_coded_3rdP_results_copy[\"Gay Marriage\"][3]\n",
    "rever_coded_3rdP_results[\"Gay Marriage\"][3] = rever_coded_3rdP_results_copy[\"Gay Marriage\"][1]\n",
    "\n",
    "rever_coded_3rdP_results[\"Refugee Allowing\"][1] = rever_coded_3rdP_results_copy[\"Refugee Allowing\"][2]\n",
    "rever_coded_3rdP_results[\"Refugee Allowing\"][2] = rever_coded_3rdP_results_copy[\"Refugee Allowing\"][1]\n",
    "\n",
    "rever_coded_3rdP_results[\"Income Inequality\"][1] = rever_coded_3rdP_results_copy[\"Income Inequality\"][2]\n",
    "rever_coded_3rdP_results[\"Income Inequality\"][2] = rever_coded_3rdP_results_copy[\"Income Inequality\"][1]\n",
    "\n",
    "rever_coded_3rdP_results[\"Gender Role\"][1] = rever_coded_3rdP_results_copy[\"Gender Role\"][2]\n",
    "rever_coded_3rdP_results[\"Gender Role\"][2] = rever_coded_3rdP_results_copy[\"Gender Role\"][1]\n",
    "\n",
    "rever_coded_3rdP_results[\"Climate Change\"][1] = rever_coded_3rdP_results_copy[\"Climate Change\"][5]\n",
    "rever_coded_3rdP_results[\"Climate Change\"][2] = rever_coded_3rdP_results_copy[\"Climate Change\"][4]\n",
    "rever_coded_3rdP_results[\"Climate Change\"][4] = rever_coded_3rdP_results_copy[\"Climate Change\"][2]\n",
    "rever_coded_3rdP_results[\"Climate Change\"][5] = rever_coded_3rdP_results_copy[\"Climate Change\"][1]\n",
    "\n",
    "rever_coded_3rdP_results[\"Race Diversity\"][1] = rever_coded_3rdP_results_copy[\"Race Diversity\"][2]\n",
    "rever_coded_3rdP_results[\"Race Diversity\"][2] = rever_coded_3rdP_results_copy[\"Race Diversity\"][1]\n",
    "\n",
    "rever_coded_3rdP_results = [{key: value} for key, value in rever_coded_3rdP_results.items()]"
   ]
  },
  {
   "cell_type": "code",
   "execution_count": 100,
   "id": "7d8141ec",
   "metadata": {},
   "outputs": [],
   "source": [
    "rever_coded_V2_results = {list(d.keys())[0]: list(d.values())[0] for d in rever_coded_V2_results}\n",
    "rever_coded_V2_results_copy = deepcopy(rever_coded_V2_results)\n",
    "\n",
    "rever_coded_V2_results[\"Gay Marriage\"][1] = rever_coded_V2_results_copy[\"Gay Marriage\"][3]\n",
    "rever_coded_V2_results[\"Gay Marriage\"][3] = rever_coded_V2_results_copy[\"Gay Marriage\"][1]\n",
    "\n",
    "rever_coded_V2_results[\"Refugee Allowing\"][1] = rever_coded_V2_results_copy[\"Refugee Allowing\"][2]\n",
    "rever_coded_V2_results[\"Refugee Allowing\"][2] = rever_coded_V2_results_copy[\"Refugee Allowing\"][1]\n",
    "\n",
    "rever_coded_V2_results[\"Income Inequality\"][1] = rever_coded_V2_results_copy[\"Income Inequality\"][2]\n",
    "rever_coded_V2_results[\"Income Inequality\"][2] = rever_coded_V2_results_copy[\"Income Inequality\"][1]\n",
    "\n",
    "rever_coded_V2_results[\"Gender Role\"][1] = rever_coded_V2_results_copy[\"Gender Role\"][2]\n",
    "rever_coded_V2_results[\"Gender Role\"][2] = rever_coded_V2_results_copy[\"Gender Role\"][1]\n",
    "\n",
    "rever_coded_V2_results[\"Climate Change\"][1] = rever_coded_V2_results_copy[\"Climate Change\"][5]\n",
    "rever_coded_V2_results[\"Climate Change\"][2] = rever_coded_V2_results_copy[\"Climate Change\"][4]\n",
    "rever_coded_V2_results[\"Climate Change\"][4] = rever_coded_V2_results_copy[\"Climate Change\"][2]\n",
    "rever_coded_V2_results[\"Climate Change\"][5] = rever_coded_V2_results_copy[\"Climate Change\"][1]\n",
    "\n",
    "rever_coded_V2_results[\"Race Diversity\"][1] = rever_coded_V2_results_copy[\"Race Diversity\"][2]\n",
    "rever_coded_V2_results[\"Race Diversity\"][2] = rever_coded_V2_results_copy[\"Race Diversity\"][1]\n",
    "\n",
    "rever_coded_V2_results = [{key: value} for key, value in rever_coded_V2_results.items()]"
   ]
  },
  {
   "cell_type": "code",
   "execution_count": 108,
   "id": "ddb99f05",
   "metadata": {},
   "outputs": [
    {
     "data": {
      "text/plain": [
       "[{'Gay Marriage': {1: 5441, 2: 0, 3: 0}},\n",
       " {'Refugee Allowing': {1: 1862, 2: 3578, 3: 1}},\n",
       " {'Income Inequality': {1: 2343, 2: 2732, 3: 366}},\n",
       " {'Gender Role': {1: 13, 2: 5390, 3: 38}},\n",
       " {'Climate Change': {1: 261, 2: 60, 3: 0, 4: 2563, 5: 2557}},\n",
       " {'Race Diversity': {1: 5422, 2: 0, 3: 19}}]"
      ]
     },
     "execution_count": 108,
     "metadata": {},
     "output_type": "execute_result"
    }
   ],
   "source": [
    "rever_coded_V2_results"
   ]
  },
  {
   "cell_type": "code",
   "execution_count": 109,
   "id": "a7909ad7",
   "metadata": {},
   "outputs": [],
   "source": [
    "from scipy.stats import entropy  # entropy is a function to compute KL-divergence\n",
    "\n",
    "def kl_divergence_between_sets(set1, set2):\n",
    "\n",
    "    kl_results = {}\n",
    "\n",
    "    dict1 = {list(d.keys())[0]: list(d.values())[0] for d in set1}\n",
    "    dict2 = {list(d.keys())[0]: list(d.values())[0] for d in set2}\n",
    "\n",
    "    for question in dict1.keys():\n",
    "        if question not in dict2:\n",
    "            continue  \n",
    "\n",
    "        p_counts = dict1[question]\n",
    "        q_counts = dict2[question]\n",
    "\n",
    "        p = np.array([p_counts.get(k, 0) for k in all_keys], dtype=float)\n",
    "        q = np.array([q_counts.get(k, 0) for k in all_keys], dtype=float)\n",
    "\n",
    "        p /= p.sum()\n",
    "        q /= q.sum()\n",
    "\n",
    "        epsilon = 1e-10\n",
    "        p = np.clip(p, epsilon, 1)\n",
    "        q = np.clip(q, epsilon, 1)\n",
    "        \n",
    "        kl_pq = entropy(p, q) \n",
    "        kl_results[question] = kl_pq\n",
    "\n",
    "    return kl_results"
   ]
  },
  {
   "cell_type": "code",
   "execution_count": 54,
   "id": "86755cf0",
   "metadata": {},
   "outputs": [],
   "source": [
    "#JSD divergence is a more numerically stable version of KL-divergence - better for our case\n",
    "\n",
    "def jsd_divergence_between_sets(set1, set2, base=2):\n",
    "\n",
    "    jsd_results = {}\n",
    "\n",
    "    dict1 = {list(d.keys())[0]: list(d.values())[0] for d in set1}\n",
    "    dict2 = {list(d.keys())[0]: list(d.values())[0] for d in set2}\n",
    "\n",
    "    for question in dict1.keys():\n",
    "        if question not in dict2:\n",
    "            continue \n",
    "\n",
    "        p_counts = dict1[question]\n",
    "        q_counts = dict2[question]\n",
    "\n",
    "        p = np.array([p_counts.get(k, 0) for k in p_counts], dtype=float)\n",
    "        q = np.array([q_counts.get(k, 0) for k in p_counts], dtype=float)\n",
    "\n",
    "        p /= p.sum()\n",
    "        q /= q.sum()\n",
    "\n",
    "        epsilon = 1e-10\n",
    "        p = np.clip(p, epsilon, 1)\n",
    "        q = np.clip(q, epsilon, 1)\n",
    "\n",
    "        m = 0.5 * (p + q)\n",
    "        jsd_pq = 0.5 * (entropy(p, m, base=base) + entropy(q, m, base=base)) \n",
    "        jsd_results[question] = jsd_pq\n",
    "\n",
    "    return jsd_results"
   ]
  },
  {
   "cell_type": "code",
   "execution_count": 110,
   "id": "10d6bdd6",
   "metadata": {},
   "outputs": [],
   "source": [
    "#Get all the results and divergences\n",
    "\n",
    "jsd_results_previous_study = jsd_divergence_between_sets(human_results, original_results, base=2)\n",
    "jsd_results_replicate = jsd_divergence_between_sets(human_results, replicate_results, base=2)\n",
    "jsd_results_reformulated = jsd_divergence_between_sets(human_results, reformulated_results, base=2)\n",
    "jsd_results_3rdP_reformulated = jsd_divergence_between_sets(human_results, reformulated_3rdP_results, base=2)\n",
    "jsd_results_rev_coded = jsd_divergence_between_sets(human_results, rever_coded_results, base = 2)\n",
    "\n",
    "\n",
    "diff_replicate_vs_previous = {key: (jsd_results_replicate[key] - jsd_results_previous_study[key]) for key in jsd_results_replicate.keys()}\n",
    "diff_reformulated_vs_replicate = {key: (jsd_results_reformulated[key] - jsd_results_replicate[key]) for key in jsd_results_replicate.keys()}\n",
    "diff_reformulated_3rdP_vs_replicate = {key: (jsd_results_3rdP_reformulated[key] - jsd_results_replicate[key]) for key in jsd_results_replicate.keys()}\n",
    "diff_rev_coded_vs_replicate = {key: (jsd_results_rev_coded[key] - jsd_results_replicate[key]) for key in jsd_results_rev_coded.keys()}\n"
   ]
  },
  {
   "cell_type": "code",
   "execution_count": 111,
   "id": "61d1b422",
   "metadata": {},
   "outputs": [],
   "source": [
    "jsd_results_preamble_original = jsd_divergence_between_sets(human_results, preamble_original_results, base=2)\n",
    "jsd_results_preamble_reformulated = jsd_divergence_between_sets(human_results, preamble_reformulated_results, base=2)\n",
    "\n",
    "jsd_results_priming_original = jsd_divergence_between_sets(human_results, priming_original_results, base=2)\n",
    "jsd_results_priming_reformulated = jsd_divergence_between_sets(human_results, priming_reformulated_results, base=2)\n",
    "\n",
    "jsd_results_rev_coded_3rdP = jsd_divergence_between_sets(human_results, rever_coded_3rdP_results, base = 2)\n",
    "jsd_results_rev_coded_V2 = jsd_divergence_between_sets(human_results, rever_coded_V2_results, base = 2)\n",
    "\n",
    "jsd_results_altered_prompts = jsd_divergence_between_sets(human_results, altered_prompts_results, base = 2)\n",
    "jsd_results_altered_prompts_3rdP = jsd_divergence_between_sets(human_results, altered_prompts_3rdP_results, base = 2)\n",
    "\n",
    "diff_preamble_original_vs_replicate = {key: (jsd_results_preamble_original[key] - jsd_results_replicate[key]) for key in jsd_results_replicate.keys()}\n",
    "diff_preamble_reformulated_vs_replicate = {key: (jsd_results_preamble_reformulated[key] - jsd_results_replicate[key]) for key in jsd_results_replicate.keys()}\n",
    "\n",
    "diff_priming_original_vs_replicate = {key: (jsd_results_priming_original[key] - jsd_results_replicate[key]) for key in jsd_results_replicate.keys()}\n",
    "diff_priming_reformulated_vs_replicate = {key: (jsd_results_priming_reformulated[key] - jsd_results_replicate[key]) for key in jsd_results_replicate.keys()}\n",
    "\n",
    "diff_rev_coded_3rdP_vs_replicate = {key: (jsd_results_rev_coded_3rdP[key] - jsd_results_replicate[key]) for key in jsd_results_rev_coded.keys()}\n",
    "diff_rev_coded_V2_vs_replicate = {key: (jsd_results_rev_coded_V2[key] - jsd_results_replicate[key]) for key in jsd_results_rev_coded.keys()}\n",
    "\n",
    "diff_altered_prompts_vs_replicate = {key: (jsd_results_altered_prompts[key] - jsd_results_replicate[key]) for key in jsd_results_altered_prompts.keys()}\n",
    "diff_altered_prompts_3rdP_vs_replicate = {key: (jsd_results_altered_prompts_3rdP[key] - jsd_results_replicate[key]) for key in jsd_results_altered_prompts.keys()}"
   ]
  },
  {
   "cell_type": "code",
   "execution_count": 112,
   "id": "dac9075d",
   "metadata": {},
   "outputs": [
    {
     "data": {
      "text/plain": [
       "{'Gay Marriage': np.float64(0.1720979525539047),\n",
       " 'Refugee Allowing': np.float64(0.20359388929756037),\n",
       " 'Income Inequality': np.float64(0.3198374015458996),\n",
       " 'Gender Role': np.float64(0.8470767946162353),\n",
       " 'Climate Change': np.float64(0.19529426926374827),\n",
       " 'Race Diversity': np.float64(0.21868819405883255)}"
      ]
     },
     "execution_count": 112,
     "metadata": {},
     "output_type": "execute_result"
    }
   ],
   "source": [
    "jsd_results_rev_coded"
   ]
  },
  {
   "cell_type": "code",
   "execution_count": 113,
   "id": "120a475f",
   "metadata": {},
   "outputs": [],
   "source": [
    "def jsd_divergence_for_bootstrapping(human_sample, bootstrap_sample, base=2):\n",
    "\n",
    "    p_counts = human_sample\n",
    "    q_counts = bootstrap_sample\n",
    "\n",
    "    p = np.array([p_counts.get(k, 0) for k in p_counts], dtype=float)\n",
    "    q = np.array([q_counts.get(k, 0) for k in p_counts], dtype=float)\n",
    "\n",
    "    p /= p.sum()\n",
    "    q /= q.sum()\n",
    "\n",
    "    epsilon = 1e-10\n",
    "    p = np.clip(p, epsilon, 1)\n",
    "    q = np.clip(q, epsilon, 1)\n",
    "\n",
    "    m = 0.5 * (p + q)\n",
    "    jsd_pq = 0.5 * (entropy(p, m, base=base) + entropy(q, m, base=base))\n",
    "\n",
    "    return jsd_pq\n"
   ]
  },
  {
   "cell_type": "code",
   "execution_count": 114,
   "id": "381860f0",
   "metadata": {},
   "outputs": [
    {
     "name": "stderr",
     "output_type": "stream",
     "text": [
      "C:\\Users\\Saber\\AppData\\Local\\Temp\\ipykernel_11972\\3587654894.py:1: DtypeWarning: Columns (19,21,22,23,25,26,27,29,30,35,37,38,1508,1509) have mixed types. Specify dtype option on import or set low_memory=False.\n",
      "  human_df = pd.read_csv(\"data/2020 ANES_test.csv\")\n"
     ]
    }
   ],
   "source": [
    "human_df = pd.read_csv(\"data/2020 ANES_test.csv\")\n",
    "\n",
    "def bootstrap_jsd(path, qid, n_boot=2000, base=2):\n",
    "\n",
    "    question_df = pd.read_csv(path + qid + \".csv\")\n",
    "    question_df['Response'] = pd.to_numeric(question_df['Response'], errors='coerce')\n",
    "\n",
    "    responses = np.array(question_df['Response'].dropna())\n",
    "\n",
    "    human_responses = {list(d.keys())[0]: list(d.values())[0] for d in human_results}[name_dict[qid]]\n",
    "\n",
    "    jsd_samples = []\n",
    "\n",
    "    for _ in range(n_boot):\n",
    "        sample = np.random.choice(responses, size=len(responses), replace=True) #sample with replacement\n",
    "        \n",
    "        counts = Counter(sample)\n",
    "\n",
    "        jsd_val = jsd_divergence_for_bootstrapping(human_responses, counts, base=base) #compute JSD for this iteration\n",
    "        jsd_samples.append(jsd_val) #append to the samples list\n",
    "\n",
    "    jsd_samples = np.array(jsd_samples)\n",
    "    mean_jsd = jsd_samples.mean()\n",
    "    ci_lower, ci_upper = np.percentile(jsd_samples, [2.5, 97.5])\n",
    "    \n",
    "    return ((\"mean\", mean_jsd), (\"ci_lower\", ci_lower), (\"ci_upper\", ci_upper))\n",
    "\n"
   ]
  },
  {
   "cell_type": "code",
   "execution_count": 115,
   "id": "f47b2e44",
   "metadata": {},
   "outputs": [],
   "source": [
    "#Create CIs and compare them\n",
    "\n",
    "ci_replicate = []\n",
    "ci_reformulated = []\n",
    "\n",
    "for qid in qids:\n",
    "    ci_replicate.append((name_dict[qid], bootstrap_jsd(path = \"MLMM Results/main_mq_results/full_results_2020_\", qid = qid)))\n",
    "    ci_reformulated.append((name_dict[qid], bootstrap_jsd(path = \"MLMM Results/main_mq_reform_3rdP_results/full_results_2020_\", qid = qid)))\n",
    "\n",
    "ci_replicate = [{item[0] : item[1]} for item in ci_replicate]\n",
    "ci_reformulated = [{item[0] : item[1]} for item in ci_reformulated]\n",
    "\n",
    "ci_replicate = {list(d.keys())[0]: list(d.values())[0] for d in ci_replicate}\n",
    "ci_reformulated = {list(d.keys())[0]: list(d.values())[0] for d in ci_reformulated}\n",
    "\n",
    "ci_comparison = {key: (ci_replicate[key], ci_reformulated[key]) for key in ci_replicate.keys()}"
   ]
  },
  {
   "cell_type": "code",
   "execution_count": 27,
   "id": "9d438919",
   "metadata": {},
   "outputs": [
    {
     "data": {
      "text/plain": [
       "{'Current Economy': (('mean', np.float64(0.3088875053766295)),\n",
       "  ('ci_lower', np.float64(0.30409177164661044)),\n",
       "  ('ci_upper', np.float64(0.3139900150942718))),\n",
       " 'Gay Marriage': (('mean', np.float64(0.14318711910201562)),\n",
       "  ('ci_lower', np.float64(0.13894765233103717)),\n",
       "  ('ci_upper', np.float64(0.14748029754140993))),\n",
       " 'Refugee Allowing': (('mean', np.float64(0.2755686625475066)),\n",
       "  ('ci_lower', np.float64(0.2734773726296294)),\n",
       "  ('ci_upper', np.float64(0.2771770190299979))),\n",
       " 'Income Inequality': (('mean', np.float64(0.19750155770094405)),\n",
       "  ('ci_lower', np.float64(0.18905304817860247)),\n",
       "  ('ci_upper', np.float64(0.2060638724056752))),\n",
       " 'Gender Role': (('mean', np.float64(0.01614773446196469)),\n",
       "  ('ci_lower', np.float64(0.01334672383399805)),\n",
       "  ('ci_upper', np.float64(0.019126957467939253))),\n",
       " 'Climate Change': (('mean', np.float64(0.41031665563973285)),\n",
       "  ('ci_lower', np.float64(0.40530775822328047)),\n",
       "  ('ci_upper', np.float64(0.4154004570939942))),\n",
       " 'Gun Regulation': (('mean', np.float64(0.11955883414967029)),\n",
       "  ('ci_lower', np.float64(0.11213508363643324)),\n",
       "  ('ci_upper', np.float64(0.12688047900091518))),\n",
       " 'Drug Addiction': (('mean', np.float64(0.172733460639531)),\n",
       "  ('ci_lower', np.float64(0.172733460639531)),\n",
       "  ('ci_upper', np.float64(0.172733460639531))),\n",
       " 'Race Diversity': (('mean', np.float64(0.1865855373346437)),\n",
       "  ('ci_lower', np.float64(0.17951239697290117)),\n",
       "  ('ci_upper', np.float64(0.1933538098159679))),\n",
       " 'Health Insurance': (('mean', np.float64(0.26269778174016495)),\n",
       "  ('ci_lower', np.float64(0.25966693567421995)),\n",
       "  ('ci_upper', np.float64(0.2650993971420573)))}"
      ]
     },
     "execution_count": 27,
     "metadata": {},
     "output_type": "execute_result"
    }
   ],
   "source": [
    "ci_replicate"
   ]
  },
  {
   "cell_type": "code",
   "execution_count": null,
   "id": "67e6575f",
   "metadata": {},
   "outputs": [],
   "source": []
  }
 ],
 "metadata": {
  "kernelspec": {
   "display_name": "ml-results-analysis",
   "language": "python",
   "name": "python3"
  },
  "language_info": {
   "codemirror_mode": {
    "name": "ipython",
    "version": 3
   },
   "file_extension": ".py",
   "mimetype": "text/x-python",
   "name": "python",
   "nbconvert_exporter": "python",
   "pygments_lexer": "ipython3",
   "version": "3.11.13"
  }
 },
 "nbformat": 4,
 "nbformat_minor": 5
}
