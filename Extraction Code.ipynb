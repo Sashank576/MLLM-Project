{
 "cells": [
  {
   "cell_type": "markdown",
   "id": "8117025f",
   "metadata": {},
   "source": [
    "# Strategies for Mitigating Social Desirability Bias in Silicon Sampling Studies - Result analysis\n",
    "\n",
    "This notebook demonstrates the workflow for processing the results for the paper \"Strategies for Mitigating Social Desirability Bias in Silicon Sampling Studies\". \n",
    "### Prerequisites\n",
    "In order to run this notebook it is recommended to install a conda distribution like [Anaconda or Miniconda (click for a link)](https://www.anaconda.com/download/success) and to create a new environment based on this repository's `environment.yml` file. The code in this notebook will not be guaranteed to work otherwise.\n",
    "\n",
    "**Conda configuration guide:**\n",
    "\n",
    "After installing a conda distribution, open a terminal (On windows it might be required to open the \"Anaconda Terminal\" instead).\n",
    "\n",
    "Then navigate to the root folder of this repository inside of the terminal in order to have access to the `environment.yml` file.\n",
    "\n",
    "Then run the following command to create/import the enviroment from the file: `conda env create -f environment.yml -n ml-results-analysis`\n",
    "\n",
    "And the second command to activate the environment: `conda activate ml-results-analysis`.\n",
    "\n",
    "Then using Jupyter Notebook or VS Code switch the kernel to the name of the newly created environment (which by default is \"ml-results-analysis\")\n",
    "### Imports\n",
    "\n",
    "Please make sure to run the following code block in order to import the packages required for analysis"
   ]
  },
  {
   "cell_type": "code",
   "execution_count": 159,
   "id": "a69c3696",
   "metadata": {},
   "outputs": [],
   "source": [
    "import pandas as pd\n",
    "from collections import Counter\n",
    "import numpy as np\n",
    "from pathlib import Path"
   ]
  },
  {
   "cell_type": "code",
   "execution_count": 160,
   "id": "bcf04080",
   "metadata": {},
   "outputs": [],
   "source": [
    "#Define QID - question matching\n",
    "qids = [\"V201324\",\"V201416\", \"V202234\", \"V202257\", \"V202287\", \"V202332\", \"V202337\", \"V202348\", \"V202371\", \"V202378\"]\n",
    "name_dict = {\"V201324\" : \"Current Economy\", \"V201416\" : \"Gay Marriage\", \"V202234\" : \"Refugee Allowing\", \n",
    "            \"V202257\" : \"Income Inequality\", \"V202287\" : \"Gender Role\", \"V202332\": \"Climate Change\",\n",
    "            \"V202337\": \"Gun Regulation\", \"V202348\": \"Drug Addiction\", \"V202371\": \"Race Diversity\", \"V202378\": \"Health Insurance\"}\n",
    "\n",
    "def get_counts(path, qids): #function to get a dict with counts for each question\n",
    "\n",
    "    value_list = []\n",
    "\n",
    "    for id in qids:\n",
    "        df = pd.read_csv(path + id + \".csv\")\n",
    "        df['Response'] = pd.to_numeric(df['Response'], errors='coerce') \n",
    "\n",
    "        value_counts = Counter(df['Response'].dropna())\n",
    "\n",
    "        if id in [\"V201324\", \"V202332\"]:\n",
    "\n",
    "            answers = {i: value_counts[i] for i in range(1, 6)}\n",
    "        else:\n",
    "            answers = {i: value_counts[i] for i in range(1, 4)}\n",
    "\n",
    "        value_list.append({name_dict[id]: answers})\n",
    "\n",
    "    return value_list\n",
    "\n",
    "\n",
    "\n",
    "original_results = get_counts(\"results/main_mq_results_unzipped/full_results_2020_\", qids)\n",
    "replicate_results = get_counts(\"MLMM Results/main_mq_results/full_results_2020_\", qids)\n",
    "reformulated_results = get_counts(\"MLMM Results/main_mq_reform_results/full_results_2020_\", qids)\n",
    "reformulated_3rdP_results = get_counts(\"MLMM Results/main_mq_reform_3rdP_results/full_results_2020_\", qids)\n",
    "\n",
    "preamble_original_results = get_counts(\"MLMM Results/Preamble/Original/full_results_2020_\", qids)\n",
    "preamble_reformulated_results = get_counts(\"MLMM Results/Preamble/Reformulated/full_results_2020_\", qids)\n",
    "\n",
    "priming_original_results = get_counts(\"MLMM Results/Priming/Original/full_results_2020_\", qids)\n",
    "priming_reformulated_results = get_counts(\"MLMM Results/Priming/Reformulated/full_results_2020_\", qids)\n",
    "\n",
    "\n",
    "#Only some IDs were used for reverse-coded\n",
    "qids_reverse_coded = [\"V201416\", \"V202234\", \"V202257\", \"V202287\", \"V202332\", \"V202371\"]\n",
    "rever_coded_results = get_counts(\"MLMM Results/main_mq_reverse_results/full_results_2020_\", qids_reverse_coded)\n",
    "rever_coded_3rdP_results = get_counts(\"MLMM Results/main_mq_reverse_3rdP_results/full_results_2020_\", qids_reverse_coded)\n",
    "rever_coded_V2_results = get_counts(\"MLMM Results/main_mq_reverseV2_results/full_results_2020_\", qids_reverse_coded)\n",
    "\n",
    "#for altered prompts it's just V202287: \"Gender Role\"\n",
    "altered_prompts_results = get_counts(\"MLMM Results/Altered Prompts/1stPov/full_results_2020_\", [\"V202287\"])\n",
    "altered_prompts_3rdP_results = get_counts(\"MLMM Results/Altered Prompts/3rdPov/full_results_2020_\", [\"V202287\"])"
   ]
  },
  {
   "cell_type": "code",
   "execution_count": 97,
   "id": "18ad9de2",
   "metadata": {},
   "outputs": [
    {
     "name": "stderr",
     "output_type": "stream",
     "text": [
      "C:\\Users\\Saber\\AppData\\Local\\Temp\\ipykernel_11972\\4095551727.py:3: DtypeWarning: Columns (19,21,22,23,25,26,27,29,30,35,37,38,1508,1509) have mixed types. Specify dtype option on import or set low_memory=False.\n",
      "  anes_df = pd.read_csv(path)\n"
     ]
    }
   ],
   "source": [
    "def get_human_counts(path, qids): #getting results from anes 2020\n",
    "\n",
    "     anes_df = pd.read_csv(path)\n",
    "\n",
    "     human_values = []\n",
    "\n",
    "     for id in qids:\n",
    "\n",
    "          human_counts = Counter(anes_df[id].dropna())\n",
    "\n",
    "          if id in [\"V201324\", \"V202332\"]:\n",
    "\n",
    "               answers = {i: human_counts[i] for i in range(1, 6)}\n",
    "          else:\n",
    "               answers = {i: human_counts[i] for i in range(1, 4)}\n",
    "\n",
    "          human_values.append({name_dict[id]: answers})\n",
    "\n",
    "     return human_values\n",
    "\n",
    "human_results = get_human_counts(\"data/2020 ANES_test.csv\", qids)"
   ]
  },
  {
   "cell_type": "code",
   "execution_count": 98,
   "id": "a317354e",
   "metadata": {},
   "outputs": [],
   "source": [
    "#Recoding reverse-coded questions\n",
    "from copy import deepcopy \n",
    "\n",
    "rever_coded_results = {list(d.keys())[0]: list(d.values())[0] for d in rever_coded_results}\n",
    "rever_coded_results_copy = deepcopy(rever_coded_results)\n",
    "\n",
    "rever_coded_results[\"Gay Marriage\"][1] = rever_coded_results_copy[\"Gay Marriage\"][3]\n",
    "rever_coded_results[\"Gay Marriage\"][3] = rever_coded_results_copy[\"Gay Marriage\"][1]\n",
    "\n",
    "rever_coded_results[\"Refugee Allowing\"][1] = rever_coded_results_copy[\"Refugee Allowing\"][2]\n",
    "rever_coded_results[\"Refugee Allowing\"][2] = rever_coded_results_copy[\"Refugee Allowing\"][1]\n",
    "\n",
    "rever_coded_results[\"Income Inequality\"][1] = rever_coded_results_copy[\"Income Inequality\"][2]\n",
    "rever_coded_results[\"Income Inequality\"][2] = rever_coded_results_copy[\"Income Inequality\"][1]\n",
    "\n",
    "rever_coded_results[\"Gender Role\"][1] = rever_coded_results_copy[\"Gender Role\"][2]\n",
    "rever_coded_results[\"Gender Role\"][2] = rever_coded_results_copy[\"Gender Role\"][1]\n",
    "\n",
    "rever_coded_results[\"Climate Change\"][1] = rever_coded_results_copy[\"Climate Change\"][5]\n",
    "rever_coded_results[\"Climate Change\"][2] = rever_coded_results_copy[\"Climate Change\"][4]\n",
    "rever_coded_results[\"Climate Change\"][4] = rever_coded_results_copy[\"Climate Change\"][2]\n",
    "rever_coded_results[\"Climate Change\"][5] = rever_coded_results_copy[\"Climate Change\"][1]\n",
    "\n",
    "rever_coded_results[\"Race Diversity\"][1] = rever_coded_results_copy[\"Race Diversity\"][2]\n",
    "rever_coded_results[\"Race Diversity\"][2] = rever_coded_results_copy[\"Race Diversity\"][1]\n",
    "\n",
    "rever_coded_results = [{key: value} for key, value in rever_coded_results.items()]"
   ]
  },
  {
   "cell_type": "code",
   "execution_count": 99,
   "id": "2d7843cb",
   "metadata": {},
   "outputs": [],
   "source": [
    "rever_coded_3rdP_results = {list(d.keys())[0]: list(d.values())[0] for d in rever_coded_3rdP_results}\n",
    "rever_coded_3rdP_results_copy = deepcopy(rever_coded_3rdP_results)\n",
    "\n",
    "rever_coded_3rdP_results[\"Gay Marriage\"][1] = rever_coded_3rdP_results_copy[\"Gay Marriage\"][3]\n",
    "rever_coded_3rdP_results[\"Gay Marriage\"][3] = rever_coded_3rdP_results_copy[\"Gay Marriage\"][1]\n",
    "\n",
    "rever_coded_3rdP_results[\"Refugee Allowing\"][1] = rever_coded_3rdP_results_copy[\"Refugee Allowing\"][2]\n",
    "rever_coded_3rdP_results[\"Refugee Allowing\"][2] = rever_coded_3rdP_results_copy[\"Refugee Allowing\"][1]\n",
    "\n",
    "rever_coded_3rdP_results[\"Income Inequality\"][1] = rever_coded_3rdP_results_copy[\"Income Inequality\"][2]\n",
    "rever_coded_3rdP_results[\"Income Inequality\"][2] = rever_coded_3rdP_results_copy[\"Income Inequality\"][1]\n",
    "\n",
    "rever_coded_3rdP_results[\"Gender Role\"][1] = rever_coded_3rdP_results_copy[\"Gender Role\"][2]\n",
    "rever_coded_3rdP_results[\"Gender Role\"][2] = rever_coded_3rdP_results_copy[\"Gender Role\"][1]\n",
    "\n",
    "rever_coded_3rdP_results[\"Climate Change\"][1] = rever_coded_3rdP_results_copy[\"Climate Change\"][5]\n",
    "rever_coded_3rdP_results[\"Climate Change\"][2] = rever_coded_3rdP_results_copy[\"Climate Change\"][4]\n",
    "rever_coded_3rdP_results[\"Climate Change\"][4] = rever_coded_3rdP_results_copy[\"Climate Change\"][2]\n",
    "rever_coded_3rdP_results[\"Climate Change\"][5] = rever_coded_3rdP_results_copy[\"Climate Change\"][1]\n",
    "\n",
    "rever_coded_3rdP_results[\"Race Diversity\"][1] = rever_coded_3rdP_results_copy[\"Race Diversity\"][2]\n",
    "rever_coded_3rdP_results[\"Race Diversity\"][2] = rever_coded_3rdP_results_copy[\"Race Diversity\"][1]\n",
    "\n",
    "rever_coded_3rdP_results = [{key: value} for key, value in rever_coded_3rdP_results.items()]"
   ]
  },
  {
   "cell_type": "code",
   "execution_count": 100,
   "id": "7d8141ec",
   "metadata": {},
   "outputs": [],
   "source": [
    "rever_coded_V2_results = {list(d.keys())[0]: list(d.values())[0] for d in rever_coded_V2_results}\n",
    "rever_coded_V2_results_copy = deepcopy(rever_coded_V2_results)\n",
    "\n",
    "rever_coded_V2_results[\"Gay Marriage\"][1] = rever_coded_V2_results_copy[\"Gay Marriage\"][3]\n",
    "rever_coded_V2_results[\"Gay Marriage\"][3] = rever_coded_V2_results_copy[\"Gay Marriage\"][1]\n",
    "\n",
    "rever_coded_V2_results[\"Refugee Allowing\"][1] = rever_coded_V2_results_copy[\"Refugee Allowing\"][2]\n",
    "rever_coded_V2_results[\"Refugee Allowing\"][2] = rever_coded_V2_results_copy[\"Refugee Allowing\"][1]\n",
    "\n",
    "rever_coded_V2_results[\"Income Inequality\"][1] = rever_coded_V2_results_copy[\"Income Inequality\"][2]\n",
    "rever_coded_V2_results[\"Income Inequality\"][2] = rever_coded_V2_results_copy[\"Income Inequality\"][1]\n",
    "\n",
    "rever_coded_V2_results[\"Gender Role\"][1] = rever_coded_V2_results_copy[\"Gender Role\"][2]\n",
    "rever_coded_V2_results[\"Gender Role\"][2] = rever_coded_V2_results_copy[\"Gender Role\"][1]\n",
    "\n",
    "rever_coded_V2_results[\"Climate Change\"][1] = rever_coded_V2_results_copy[\"Climate Change\"][5]\n",
    "rever_coded_V2_results[\"Climate Change\"][2] = rever_coded_V2_results_copy[\"Climate Change\"][4]\n",
    "rever_coded_V2_results[\"Climate Change\"][4] = rever_coded_V2_results_copy[\"Climate Change\"][2]\n",
    "rever_coded_V2_results[\"Climate Change\"][5] = rever_coded_V2_results_copy[\"Climate Change\"][1]\n",
    "\n",
    "rever_coded_V2_results[\"Race Diversity\"][1] = rever_coded_V2_results_copy[\"Race Diversity\"][2]\n",
    "rever_coded_V2_results[\"Race Diversity\"][2] = rever_coded_V2_results_copy[\"Race Diversity\"][1]\n",
    "\n",
    "rever_coded_V2_results = [{key: value} for key, value in rever_coded_V2_results.items()]"
   ]
  },
  {
   "cell_type": "code",
   "execution_count": 126,
   "id": "ddb99f05",
   "metadata": {},
   "outputs": [
    {
     "data": {
      "text/plain": [
       "[{'Gay Marriage': {1: 5441, 2: 0, 3: 0}},\n",
       " {'Refugee Allowing': {1: 1862, 2: 3578, 3: 1}},\n",
       " {'Income Inequality': {1: 2343, 2: 2732, 3: 366}},\n",
       " {'Gender Role': {1: 13, 2: 5390, 3: 38}},\n",
       " {'Climate Change': {1: 261, 2: 60, 3: 0, 4: 2563, 5: 2557}},\n",
       " {'Race Diversity': {1: 5422, 2: 0, 3: 19}}]"
      ]
     },
     "execution_count": 126,
     "metadata": {},
     "output_type": "execute_result"
    }
   ],
   "source": [
    "rever_coded_V2_results"
   ]
  },
  {
   "cell_type": "code",
   "execution_count": 109,
   "id": "a7909ad7",
   "metadata": {},
   "outputs": [],
   "source": [
    "from scipy.stats import entropy  # entropy is a function to compute KL-divergence\n",
    "\n",
    "def kl_divergence_between_sets(set1, set2):\n",
    "\n",
    "    kl_results = {}\n",
    "\n",
    "    dict1 = {list(d.keys())[0]: list(d.values())[0] for d in set1}\n",
    "    dict2 = {list(d.keys())[0]: list(d.values())[0] for d in set2}\n",
    "\n",
    "    for question in dict1.keys():\n",
    "        if question not in dict2:\n",
    "            continue  \n",
    "\n",
    "        p_counts = dict1[question]\n",
    "        q_counts = dict2[question]\n",
    "\n",
    "        p = np.array([p_counts.get(k, 0) for k in all_keys], dtype=float)\n",
    "        q = np.array([q_counts.get(k, 0) for k in all_keys], dtype=float)\n",
    "\n",
    "        p /= p.sum()\n",
    "        q /= q.sum()\n",
    "\n",
    "        epsilon = 1e-10\n",
    "        p = np.clip(p, epsilon, 1)\n",
    "        q = np.clip(q, epsilon, 1)\n",
    "        \n",
    "        kl_pq = entropy(p, q) \n",
    "        kl_results[question] = kl_pq\n",
    "\n",
    "    return kl_results"
   ]
  },
  {
   "cell_type": "code",
   "execution_count": 54,
   "id": "86755cf0",
   "metadata": {},
   "outputs": [],
   "source": [
    "#JSD divergence is a more numerically stable version of KL-divergence - better for our case\n",
    "\n",
    "def jsd_divergence_between_sets(set1, set2, base=2):\n",
    "\n",
    "    jsd_results = {}\n",
    "\n",
    "    dict1 = {list(d.keys())[0]: list(d.values())[0] for d in set1}\n",
    "    dict2 = {list(d.keys())[0]: list(d.values())[0] for d in set2}\n",
    "\n",
    "    for question in dict1.keys():\n",
    "        if question not in dict2:\n",
    "            continue \n",
    "\n",
    "        p_counts = dict1[question]\n",
    "        q_counts = dict2[question]\n",
    "\n",
    "        p = np.array([p_counts.get(k, 0) for k in p_counts], dtype=float)\n",
    "        q = np.array([q_counts.get(k, 0) for k in p_counts], dtype=float)\n",
    "\n",
    "        p /= p.sum()\n",
    "        q /= q.sum()\n",
    "\n",
    "        epsilon = 1e-10\n",
    "        p = np.clip(p, epsilon, 1)\n",
    "        q = np.clip(q, epsilon, 1)\n",
    "\n",
    "        m = 0.5 * (p + q)\n",
    "        jsd_pq = 0.5 * (entropy(p, m, base=base) + entropy(q, m, base=base)) \n",
    "        jsd_results[question] = jsd_pq\n",
    "\n",
    "    return jsd_results"
   ]
  },
  {
   "cell_type": "code",
   "execution_count": 110,
   "id": "10d6bdd6",
   "metadata": {},
   "outputs": [],
   "source": [
    "#Get all the results and divergences\n",
    "\n",
    "jsd_results_previous_study = jsd_divergence_between_sets(human_results, original_results, base=2)\n",
    "jsd_results_replicate = jsd_divergence_between_sets(human_results, replicate_results, base=2)\n",
    "jsd_results_reformulated = jsd_divergence_between_sets(human_results, reformulated_results, base=2)\n",
    "jsd_results_3rdP_reformulated = jsd_divergence_between_sets(human_results, reformulated_3rdP_results, base=2)\n",
    "jsd_results_rev_coded = jsd_divergence_between_sets(human_results, rever_coded_results, base = 2)\n",
    "\n",
    "\n",
    "diff_replicate_vs_previous = {key: (jsd_results_replicate[key] - jsd_results_previous_study[key]) for key in jsd_results_replicate.keys()}\n",
    "diff_reformulated_vs_replicate = {key: (jsd_results_reformulated[key] - jsd_results_replicate[key]) for key in jsd_results_replicate.keys()}\n",
    "diff_reformulated_3rdP_vs_replicate = {key: (jsd_results_3rdP_reformulated[key] - jsd_results_replicate[key]) for key in jsd_results_replicate.keys()}\n",
    "diff_rev_coded_vs_replicate = {key: (jsd_results_rev_coded[key] - jsd_results_replicate[key]) for key in jsd_results_rev_coded.keys()}\n"
   ]
  },
  {
   "cell_type": "code",
   "execution_count": 111,
   "id": "61d1b422",
   "metadata": {},
   "outputs": [],
   "source": [
    "jsd_results_preamble_original = jsd_divergence_between_sets(human_results, preamble_original_results, base=2)\n",
    "jsd_results_preamble_reformulated = jsd_divergence_between_sets(human_results, preamble_reformulated_results, base=2)\n",
    "\n",
    "jsd_results_priming_original = jsd_divergence_between_sets(human_results, priming_original_results, base=2)\n",
    "jsd_results_priming_reformulated = jsd_divergence_between_sets(human_results, priming_reformulated_results, base=2)\n",
    "\n",
    "jsd_results_rev_coded_3rdP = jsd_divergence_between_sets(human_results, rever_coded_3rdP_results, base = 2)\n",
    "jsd_results_rev_coded_V2 = jsd_divergence_between_sets(human_results, rever_coded_V2_results, base = 2)\n",
    "\n",
    "jsd_results_altered_prompts = jsd_divergence_between_sets(human_results, altered_prompts_results, base = 2)\n",
    "jsd_results_altered_prompts_3rdP = jsd_divergence_between_sets(human_results, altered_prompts_3rdP_results, base = 2)\n",
    "\n",
    "diff_preamble_original_vs_replicate = {key: (jsd_results_preamble_original[key] - jsd_results_replicate[key]) for key in jsd_results_replicate.keys()}\n",
    "diff_preamble_reformulated_vs_replicate = {key: (jsd_results_preamble_reformulated[key] - jsd_results_replicate[key]) for key in jsd_results_replicate.keys()}\n",
    "\n",
    "diff_priming_original_vs_replicate = {key: (jsd_results_priming_original[key] - jsd_results_replicate[key]) for key in jsd_results_replicate.keys()}\n",
    "diff_priming_reformulated_vs_replicate = {key: (jsd_results_priming_reformulated[key] - jsd_results_replicate[key]) for key in jsd_results_replicate.keys()}\n",
    "\n",
    "diff_rev_coded_3rdP_vs_replicate = {key: (jsd_results_rev_coded_3rdP[key] - jsd_results_replicate[key]) for key in jsd_results_rev_coded.keys()}\n",
    "diff_rev_coded_V2_vs_replicate = {key: (jsd_results_rev_coded_V2[key] - jsd_results_replicate[key]) for key in jsd_results_rev_coded.keys()}\n",
    "\n",
    "diff_altered_prompts_vs_replicate = {key: (jsd_results_altered_prompts[key] - jsd_results_replicate[key]) for key in jsd_results_altered_prompts.keys()}\n",
    "diff_altered_prompts_3rdP_vs_replicate = {key: (jsd_results_altered_prompts_3rdP[key] - jsd_results_replicate[key]) for key in jsd_results_altered_prompts.keys()}"
   ]
  },
  {
   "cell_type": "code",
   "execution_count": null,
   "id": "dac9075d",
   "metadata": {},
   "outputs": [
    {
     "data": {
      "text/plain": [
       "{'Current Economy': np.float64(0.3089343216443693),\n",
       " 'Gay Marriage': np.float64(0.14307686374186043),\n",
       " 'Refugee Allowing': np.float64(0.2754547064846679),\n",
       " 'Income Inequality': np.float64(0.19739544544897714),\n",
       " 'Gender Role': np.float64(0.016114490428752785),\n",
       " 'Climate Change': np.float64(0.41027913651738845),\n",
       " 'Gun Regulation': np.float64(0.11942370568278651),\n",
       " 'Drug Addiction': np.float64(0.172733460639531),\n",
       " 'Race Diversity': np.float64(0.1865950426445117),\n",
       " 'Health Insurance': np.float64(0.2626018434290641)}"
      ]
     },
     "metadata": {},
     "output_type": "display_data"
    },
    {
     "data": {
      "text/plain": [
       "{'Current Economy': np.float64(0.15963050653832958),\n",
       " 'Gay Marriage': np.float64(0.03441359308915744),\n",
       " 'Refugee Allowing': np.float64(0.24421871154797012),\n",
       " 'Income Inequality': np.float64(0.15005058071296512),\n",
       " 'Gender Role': np.float64(0.3294401567477192),\n",
       " 'Climate Change': np.float64(0.41617819996860295),\n",
       " 'Gun Regulation': np.float64(0.057870254321471595),\n",
       " 'Drug Addiction': np.float64(0.172733460639531),\n",
       " 'Race Diversity': np.float64(0.20097962441051948),\n",
       " 'Health Insurance': np.float64(0.24802097866941136)}"
      ]
     },
     "metadata": {},
     "output_type": "display_data"
    },
    {
     "data": {
      "text/plain": [
       "{'Current Economy': np.float64(-0.1493038151060397),\n",
       " 'Gay Marriage': np.float64(-0.108663270652703),\n",
       " 'Refugee Allowing': np.float64(-0.031235994936697792),\n",
       " 'Income Inequality': np.float64(-0.047344864736012016),\n",
       " 'Gender Role': np.float64(0.3133256663189664),\n",
       " 'Climate Change': np.float64(0.005899063451214492),\n",
       " 'Gun Regulation': np.float64(-0.06155345136131492),\n",
       " 'Drug Addiction': np.float64(0.0),\n",
       " 'Race Diversity': np.float64(0.014384581766007765),\n",
       " 'Health Insurance': np.float64(-0.014580864759652756)}"
      ]
     },
     "metadata": {},
     "output_type": "display_data"
    }
   ],
   "source": [
    "#For table1, although currently not used\n",
    "\n",
    "display(jsd_results_replicate)          # Baseline\n",
    "display(jsd_results_reformulated)       # 1a (Re-form.)\n",
    "display(diff_reformulated_vs_replicate) # Δ (1a–Base)"
   ]
  },
  {
   "cell_type": "code",
   "execution_count": null,
   "id": "fb284190",
   "metadata": {},
   "outputs": [
    {
     "data": {
      "text/plain": [
       "{'Current Economy': np.float64(0.12011639529079346),\n",
       " 'Gay Marriage': np.float64(0.052663658962000134),\n",
       " 'Refugee Allowing': np.float64(0.21026359648978726),\n",
       " 'Income Inequality': np.float64(0.14884697431552066),\n",
       " 'Gender Role': np.float64(0.38141899165290616),\n",
       " 'Climate Change': np.float64(0.3620570362819388),\n",
       " 'Gun Regulation': np.float64(0.06422818310523307),\n",
       " 'Drug Addiction': np.float64(0.16017365938057604),\n",
       " 'Race Diversity': np.float64(0.13999066332608223),\n",
       " 'Health Insurance': np.float64(0.21360574008852262)}"
      ]
     },
     "metadata": {},
     "output_type": "display_data"
    },
    {
     "data": {
      "text/plain": [
       "{'Current Economy': np.float64(-0.18881792635357583),\n",
       " 'Gay Marriage': np.float64(-0.0904132047798603),\n",
       " 'Refugee Allowing': np.float64(-0.06519110999488065),\n",
       " 'Income Inequality': np.float64(-0.04854847113345648),\n",
       " 'Gender Role': np.float64(0.36530450122415337),\n",
       " 'Climate Change': np.float64(-0.04822210023544965),\n",
       " 'Gun Regulation': np.float64(-0.055195522577553446),\n",
       " 'Drug Addiction': np.float64(-0.01255980125895495),\n",
       " 'Race Diversity': np.float64(-0.04660437931842948),\n",
       " 'Health Insurance': np.float64(-0.0489961033405415)}"
      ]
     },
     "metadata": {},
     "output_type": "display_data"
    }
   ],
   "source": [
    "#For table1\n",
    "\n",
    "display(jsd_results_3rdP_reformulated)       # 1b (Re-form 3rdP.)\n",
    "display(diff_reformulated_3rdP_vs_replicate) # Δ (1b–Base)"
   ]
  },
  {
   "cell_type": "code",
   "execution_count": null,
   "id": "42dff877",
   "metadata": {},
   "outputs": [
    {
     "data": {
      "text/plain": [
       "{'Gay Marriage': np.float64(0.1720979525539047),\n",
       " 'Refugee Allowing': np.float64(0.30754986950526286),\n",
       " 'Income Inequality': np.float64(0.06333039394731574),\n",
       " 'Gender Role': np.float64(0.8094911032054941),\n",
       " 'Climate Change': np.float64(0.21275792818766415),\n",
       " 'Race Diversity': np.float64(0.2541772989140924)}"
      ]
     },
     "metadata": {},
     "output_type": "display_data"
    },
    {
     "data": {
      "text/plain": [
       "{'Gay Marriage': np.float64(0.029021088812044266),\n",
       " 'Refugee Allowing': np.float64(0.03209516302059495),\n",
       " 'Income Inequality': np.float64(-0.1340650515016614),\n",
       " 'Gender Role': np.float64(0.7933766127767413),\n",
       " 'Climate Change': np.float64(-0.1975212083297243),\n",
       " 'Race Diversity': np.float64(0.0675822562695807)}"
      ]
     },
     "metadata": {},
     "output_type": "display_data"
    }
   ],
   "source": [
    "#For table1\n",
    "\n",
    "display(jsd_results_rev_coded_V2)       # 2 (Rev_coded)\n",
    "display(diff_rev_coded_V2_vs_replicate) # Δ (2–Base)"
   ]
  },
  {
   "cell_type": "code",
   "execution_count": null,
   "id": "5a341ee8",
   "metadata": {},
   "outputs": [
    {
     "data": {
      "text/plain": [
       "{'Current Economy': np.float64(0.29307151541144644),\n",
       " 'Gay Marriage': np.float64(0.1720979525539047),\n",
       " 'Refugee Allowing': np.float64(0.24976660026070246),\n",
       " 'Income Inequality': np.float64(0.21405503818198618),\n",
       " 'Gender Role': np.float64(0.15558866670035593),\n",
       " 'Climate Change': np.float64(0.41158717459566185),\n",
       " 'Gun Regulation': np.float64(0.20435158200778916),\n",
       " 'Drug Addiction': np.float64(0.16801130752219084),\n",
       " 'Race Diversity': np.float64(0.010058756697789412),\n",
       " 'Health Insurance': np.float64(0.26497278023601517)}"
      ]
     },
     "metadata": {},
     "output_type": "display_data"
    }
   ],
   "source": [
    "#For table1\n",
    "\n",
    "display(jsd_results_preamble_original)       # 3 (Preambled)\n",
    "display(diff_preamble_original_vs_replicate) # Δ (3–Base)"
   ]
  },
  {
   "cell_type": "code",
   "execution_count": null,
   "id": "7cb0e959",
   "metadata": {},
   "outputs": [
    {
     "data": {
      "text/plain": [
       "{'Current Economy': np.float64(0.3663018616277002),\n",
       " 'Gay Marriage': np.float64(0.1720979525539047),\n",
       " 'Refugee Allowing': np.float64(0.2754547064846679),\n",
       " 'Income Inequality': np.float64(0.27155220879481656),\n",
       " 'Gender Role': np.float64(0.18857525266986758),\n",
       " 'Climate Change': np.float64(0.4163255452744199),\n",
       " 'Gun Regulation': np.float64(0.21556268502387943),\n",
       " 'Drug Addiction': np.float64(0.172733460639531),\n",
       " 'Race Diversity': np.float64(0.032549427240388215),\n",
       " 'Health Insurance': np.float64(0.2650993971420573)}"
      ]
     },
     "metadata": {},
     "output_type": "display_data"
    },
    {
     "data": {
      "text/plain": [
       "{'Current Economy': np.float64(0.057367539983330884),\n",
       " 'Gay Marriage': np.float64(0.029021088812044266),\n",
       " 'Refugee Allowing': np.float64(0.0),\n",
       " 'Income Inequality': np.float64(0.07415676334583943),\n",
       " 'Gender Role': np.float64(0.17246076224111478),\n",
       " 'Climate Change': np.float64(0.006046408757031441),\n",
       " 'Gun Regulation': np.float64(0.09613897934109292),\n",
       " 'Drug Addiction': np.float64(0.0),\n",
       " 'Race Diversity': np.float64(-0.15404561540412348),\n",
       " 'Health Insurance': np.float64(0.0024975537129932057)}"
      ]
     },
     "metadata": {},
     "output_type": "display_data"
    }
   ],
   "source": [
    "#For table1\n",
    "\n",
    "display(jsd_results_priming_original)       # 4 (Priming)\n",
    "display(diff_priming_original_vs_replicate) # Δ (4–Base)"
   ]
  },
  {
   "cell_type": "code",
   "execution_count": 113,
   "id": "120a475f",
   "metadata": {},
   "outputs": [],
   "source": [
    "def jsd_divergence_for_bootstrapping(human_sample, bootstrap_sample, base=2):\n",
    "\n",
    "    p_counts = human_sample\n",
    "    q_counts = bootstrap_sample\n",
    "\n",
    "    p = np.array([p_counts.get(k, 0) for k in p_counts], dtype=float)\n",
    "    q = np.array([q_counts.get(k, 0) for k in p_counts], dtype=float)\n",
    "\n",
    "    p /= p.sum()\n",
    "    q /= q.sum()\n",
    "\n",
    "    epsilon = 1e-10\n",
    "    p = np.clip(p, epsilon, 1)\n",
    "    q = np.clip(q, epsilon, 1)\n",
    "\n",
    "    m = 0.5 * (p + q)\n",
    "    jsd_pq = 0.5 * (entropy(p, m, base=base) + entropy(q, m, base=base))\n",
    "\n",
    "    return jsd_pq\n"
   ]
  },
  {
   "cell_type": "code",
   "execution_count": 131,
   "id": "381860f0",
   "metadata": {},
   "outputs": [
    {
     "name": "stderr",
     "output_type": "stream",
     "text": [
      "C:\\Users\\Saber\\AppData\\Local\\Temp\\ipykernel_11972\\1771041680.py:1: DtypeWarning: Columns (19,21,22,23,25,26,27,29,30,35,37,38,1508,1509) have mixed types. Specify dtype option on import or set low_memory=False.\n",
      "  human_df = pd.read_csv(\"data/2020 ANES_test.csv\")\n"
     ]
    }
   ],
   "source": [
    "human_df = pd.read_csv(\"data/2020 ANES_test.csv\")\n",
    "\n",
    "def bootstrap_jsd(path, qid, n_boot=2000, base=2, return_samples=False):\n",
    "\n",
    "    question_df = pd.read_csv(path + qid + \".csv\")\n",
    "    question_df['Response'] = pd.to_numeric(question_df['Response'], errors='coerce')\n",
    "\n",
    "    responses = np.array(question_df['Response'].dropna())\n",
    "\n",
    "    human_responses = {list(d.keys())[0]: list(d.values())[0] for d in human_results}[name_dict[qid]]\n",
    "\n",
    "    jsd_samples = []\n",
    "\n",
    "    for _ in range(n_boot):\n",
    "        sample = np.random.choice(responses, size=len(responses), replace=True) #sample with replacement\n",
    "        \n",
    "        counts = Counter(sample)\n",
    "\n",
    "        jsd_val = jsd_divergence_for_bootstrapping(human_responses, counts, base=base) #compute JSD for this iteration\n",
    "        jsd_samples.append(jsd_val) #append to the samples list\n",
    "\n",
    "    jsd_samples = np.array(jsd_samples)\n",
    "\n",
    "    if return_samples:\n",
    "        return jsd_samples  # <— raw samples for delta CI\n",
    "\n",
    "    mean_jsd = jsd_samples.mean()\n",
    "    ci_lower, ci_upper = np.percentile(jsd_samples, [2.5, 97.5])\n",
    "    \n",
    "    return ((\"mean\", mean_jsd), (\"ci_lower\", ci_lower), (\"ci_upper\", ci_upper))\n",
    "\n"
   ]
  },
  {
   "cell_type": "code",
   "execution_count": null,
   "id": "f47b2e44",
   "metadata": {},
   "outputs": [],
   "source": [
    "#Create CIs and compare them\n",
    "\n",
    "ci_replicate = []\n",
    "ci_reformulated = []\n",
    "ci_preamble = []\n",
    "ci_priming = []\n",
    "ci_reverse_coded = []\n",
    "\n",
    "for qid in qids:\n",
    "    ci_replicate.append((name_dict[qid], bootstrap_jsd(path = \"MLMM Results/main_mq_results/full_results_2020_\", qid = qid)))\n",
    "    ci_reformulated.append((name_dict[qid], bootstrap_jsd(path = \"MLMM Results/main_mq_reform_3rdP_results/full_results_2020_\", qid = qid)))\n",
    "    ci_preamble.append((name_dict[qid], bootstrap_jsd(path = \"MLMM Results/Preamble/Original/full_results_2020_\", qid = qid)))\n",
    "    ci_priming.append((name_dict[qid], bootstrap_jsd(path = \"MLMM Results/Priming/Original/full_results_2020_\", qid = qid)))\n",
    "\n",
    "ci_replicate = [{item[0] : item[1]} for item in ci_replicate]\n",
    "ci_reformulated = [{item[0] : item[1]} for item in ci_reformulated]\n",
    "ci_preamble = [{item[0] : item[1]} for item in ci_preamble]\n",
    "ci_priming = [{item[0] : item[1]} for item in ci_priming]\n",
    "\n",
    "ci_replicate = {list(d.keys())[0]: list(d.values())[0] for d in ci_replicate}\n",
    "ci_reformulated = {list(d.keys())[0]: list(d.values())[0] for d in ci_reformulated}\n",
    "ci_preamble = {list(d.keys())[0]: list(d.values())[0] for d in ci_preamble}\n",
    "ci_priming = {list(d.keys())[0]: list(d.values())[0] for d in ci_priming}"
   ]
  },
  {
   "cell_type": "code",
   "execution_count": null,
   "id": "7a53d691",
   "metadata": {},
   "outputs": [],
   "source": [
    "def bootstrap_jsd_for_reverse_coded(path, qid, n_boot=2000, base=2, return_samples=False):\n",
    "\n",
    "    question_df = pd.read_csv(path + qid + \".csv\")\n",
    "    question_df['Response'] = pd.to_numeric(question_df['Response'], errors='coerce')\n",
    "\n",
    "    reverse_mappings = {\n",
    "        \"Gay Marriage\": {1: 3, 3: 1},\n",
    "        \"Refugee Allowing\": {1: 2, 2: 1},\n",
    "        \"Income Inequality\": {1: 2, 2: 1},\n",
    "        \"Gender Role\": {1: 2, 2: 1},\n",
    "        \"Climate Change\": {1: 5, 2: 4, 4: 2, 5: 1},\n",
    "        \"Race Diversity\": {1: 2, 2: 1}\n",
    "    }\n",
    "\n",
    "    qname = name_dict[qid]\n",
    "    responses = np.array(question_df['Response'].dropna())\n",
    "\n",
    "    #apply the map to swap the answers\n",
    "    if qname in reverse_mappings:\n",
    "        mapping = reverse_mappings[qname]\n",
    "        responses = np.array([mapping.get(val, val) for val in responses])\n",
    "\n",
    "    human_responses = {list(d.keys())[0]: list(d.values())[0] for d in human_results}[qname]\n",
    "\n",
    "    jsd_samples = []\n",
    "\n",
    "    for _ in range(n_boot):\n",
    "        sample = np.random.choice(responses, size=len(responses), replace=True)\n",
    "        counts = Counter(sample)\n",
    "        jsd_val = jsd_divergence_for_bootstrapping(human_responses, counts, base=base)\n",
    "        jsd_samples.append(jsd_val)\n",
    "\n",
    "    jsd_samples = np.array(jsd_samples)\n",
    "\n",
    "    if return_samples:\n",
    "        return jsd_samples\n",
    "\n",
    "    mean_jsd = jsd_samples.mean()\n",
    "    ci_lower, ci_upper = np.percentile(jsd_samples, [2.5, 97.5])\n",
    "\n",
    "    return ((\"mean\", mean_jsd), (\"ci_lower\", ci_lower), (\"ci_upper\", ci_upper))\n"
   ]
  },
  {
   "cell_type": "code",
   "execution_count": 152,
   "id": "057479b4",
   "metadata": {},
   "outputs": [],
   "source": [
    "ci_reverse_coded = []\n",
    "\n",
    "for qid in qids_reverse_coded:\n",
    "    ci_reverse_coded.append((name_dict[qid], bootstrap_jsd_for_reverse_coded(path = \"MLMM Results/main_mq_reverseV2_results/full_results_2020_\", qid = qid)))\n",
    "\n",
    "ci_reverse_coded = [{item[0] : item[1]} for item in ci_reverse_coded]\n",
    "ci_reverse_coded = {list(d.keys())[0]: list(d.values())[0] for d in ci_reverse_coded}"
   ]
  },
  {
   "cell_type": "code",
   "execution_count": null,
   "id": "5db982be",
   "metadata": {},
   "outputs": [
    {
     "data": {
      "text/plain": [
       "{'Current Economy': ((('mean', np.float64(0.30888024684581705)),\n",
       "   ('ci_lower', np.float64(0.304179264834076)),\n",
       "   ('ci_upper', np.float64(0.3136070934615195))),\n",
       "  (('mean', np.float64(0.1201309875441333)),\n",
       "   ('ci_lower', np.float64(0.1170568697796161)),\n",
       "   ('ci_upper', np.float64(0.12340859050974275))),\n",
       "  (('mean', np.float64(0.29323067577586776)),\n",
       "   ('ci_lower', np.float64(0.2875618726259383)),\n",
       "   ('ci_upper', np.float64(0.2986232334897399))),\n",
       "  (('mean', np.float64(0.3664585004646765)),\n",
       "   ('ci_lower', np.float64(0.3600239304242139)),\n",
       "   ('ci_upper', np.float64(0.3733287996156019)))),\n",
       " 'Gay Marriage': ((('mean', np.float64(0.14324350017839824)),\n",
       "   ('ci_lower', np.float64(0.1390887851531668)),\n",
       "   ('ci_upper', np.float64(0.1477387291973739))),\n",
       "  (('mean', np.float64(0.052664457740211515)),\n",
       "   ('ci_lower', np.float64(0.04841877640154858)),\n",
       "   ('ci_upper', np.float64(0.057112845070914055))),\n",
       "  (('mean', np.float64(0.17209795255390464)),\n",
       "   ('ci_lower', np.float64(0.1720979525539047)),\n",
       "   ('ci_upper', np.float64(0.1720979525539047))),\n",
       "  (('mean', np.float64(0.17209795255390464)),\n",
       "   ('ci_lower', np.float64(0.1720979525539047)),\n",
       "   ('ci_upper', np.float64(0.1720979525539047)))),\n",
       " 'Refugee Allowing': ((('mean', np.float64(0.2755194144484497)),\n",
       "   ('ci_lower', np.float64(0.2734773726296294)),\n",
       "   ('ci_upper', np.float64(0.2771770190299979))),\n",
       "  (('mean', np.float64(0.21025514801540432)),\n",
       "   ('ci_lower', np.float64(0.20696173256137107)),\n",
       "   ('ci_upper', np.float64(0.21392443923989124))),\n",
       "  (('mean', np.float64(0.2498810543605926)),\n",
       "   ('ci_lower', np.float64(0.24492873364449896)),\n",
       "   ('ci_upper', np.float64(0.25495131764926043))),\n",
       "  (('mean', np.float64(0.2754813415602492)),\n",
       "   ('ci_lower', np.float64(0.2734773726296294)),\n",
       "   ('ci_upper', np.float64(0.2771770190299979)))),\n",
       " 'Income Inequality': ((('mean', np.float64(0.1975759882977676)),\n",
       "   ('ci_lower', np.float64(0.1889105138088053)),\n",
       "   ('ci_upper', np.float64(0.20608001850191052))),\n",
       "  (('mean', np.float64(0.14890293533949786)),\n",
       "   ('ci_lower', np.float64(0.14454393631093213)),\n",
       "   ('ci_upper', np.float64(0.15312230575952093))),\n",
       "  (('mean', np.float64(0.21418880028874931)),\n",
       "   ('ci_lower', np.float64(0.2058175957998698)),\n",
       "   ('ci_upper', np.float64(0.22254936842837245))),\n",
       "  (('mean', np.float64(0.27175752365487643)),\n",
       "   ('ci_lower', np.float64(0.2639899563684199)),\n",
       "   ('ci_upper', np.float64(0.27944804277707874)))),\n",
       " 'Gender Role': ((('mean', np.float64(0.016119538584105555)),\n",
       "   ('ci_lower', np.float64(0.013422132723307147)),\n",
       "   ('ci_upper', np.float64(0.019018897313961))),\n",
       "  (('mean', np.float64(0.38152687247731104)),\n",
       "   ('ci_lower', np.float64(0.3716136353465188)),\n",
       "   ('ci_upper', np.float64(0.39135331196657186))),\n",
       "  (('mean', np.float64(0.15573311078216473)),\n",
       "   ('ci_lower', np.float64(0.1488793462963305)),\n",
       "   ('ci_upper', np.float64(0.1624165476350208))),\n",
       "  (('mean', np.float64(0.18863278855289212)),\n",
       "   ('ci_lower', np.float64(0.1835258107293142)),\n",
       "   ('ci_upper', np.float64(0.19345551455877416)))),\n",
       " 'Climate Change': ((('mean', np.float64(0.41043161165050385)),\n",
       "   ('ci_lower', np.float64(0.4052490534720019)),\n",
       "   ('ci_upper', np.float64(0.41541718026037816))),\n",
       "  (('mean', np.float64(0.36211443094809065)),\n",
       "   ('ci_lower', np.float64(0.3570689431905407)),\n",
       "   ('ci_upper', np.float64(0.3672472535135652))),\n",
       "  (('mean', np.float64(0.4117639755662079)),\n",
       "   ('ci_lower', np.float64(0.4078941196943199)),\n",
       "   ('ci_upper', np.float64(0.4155921085085783))),\n",
       "  (('mean', np.float64(0.41635237806178693)),\n",
       "   ('ci_lower', np.float64(0.415098465460936)),\n",
       "   ('ci_upper', np.float64(0.4176621973361232)))),\n",
       " 'Gun Regulation': ((('mean', np.float64(0.11946855185468448)),\n",
       "   ('ci_lower', np.float64(0.11246266070889628)),\n",
       "   ('ci_upper', np.float64(0.12684082863327442))),\n",
       "  (('mean', np.float64(0.06436822934561129)),\n",
       "   ('ci_lower', np.float64(0.058967278541069805)),\n",
       "   ('ci_upper', np.float64(0.06999775296140723))),\n",
       "  (('mean', np.float64(0.20443456172284413)),\n",
       "   ('ci_lower', np.float64(0.19545380175867572)),\n",
       "   ('ci_upper', np.float64(0.21337928415346633))),\n",
       "  (('mean', np.float64(0.21561886605642946)),\n",
       "   ('ci_lower', np.float64(0.20646180435539047)),\n",
       "   ('ci_upper', np.float64(0.2248922113695527)))),\n",
       " 'Drug Addiction': ((('mean', np.float64(0.172733460639531)),\n",
       "   ('ci_lower', np.float64(0.172733460639531)),\n",
       "   ('ci_upper', np.float64(0.172733460639531))),\n",
       "  (('mean', np.float64(0.16017741668799043)),\n",
       "   ('ci_lower', np.float64(0.15593950993319253)),\n",
       "   ('ci_upper', np.float64(0.16438888853632214))),\n",
       "  (('mean', np.float64(0.16803464822015565)),\n",
       "   ('ci_lower', np.float64(0.16495783571245207)),\n",
       "   ('ci_upper', np.float64(0.17086844536791754))),\n",
       "  (('mean', np.float64(0.172733460639531)),\n",
       "   ('ci_lower', np.float64(0.172733460639531)),\n",
       "   ('ci_upper', np.float64(0.172733460639531)))),\n",
       " 'Race Diversity': ((('mean', np.float64(0.18649139379989035)),\n",
       "   ('ci_lower', np.float64(0.179275988830129)),\n",
       "   ('ci_upper', np.float64(0.1933538098159679))),\n",
       "  (('mean', np.float64(0.13999907215088384)),\n",
       "   ('ci_lower', np.float64(0.13317797055038114)),\n",
       "   ('ci_upper', np.float64(0.14726595756715044))),\n",
       "  (('mean', np.float64(0.010098586795211736)),\n",
       "   ('ci_lower', np.float64(0.007879209612875276)),\n",
       "   ('ci_upper', np.float64(0.012606526328719253))),\n",
       "  (('mean', np.float64(0.032657496592284715)),\n",
       "   ('ci_lower', np.float64(0.030608360489715915)),\n",
       "   ('ci_upper', np.float64(0.03460950185148553)))),\n",
       " 'Health Insurance': ((('mean', np.float64(0.26274100430167946)),\n",
       "   ('ci_lower', np.float64(0.2596863784233007)),\n",
       "   ('ci_upper', np.float64(0.2650993971420573))),\n",
       "  (('mean', np.float64(0.21369900371997932)),\n",
       "   ('ci_lower', np.float64(0.2103954742225116)),\n",
       "   ('ci_upper', np.float64(0.21743323083629382))),\n",
       "  (('mean', np.float64(0.2650277588160534)),\n",
       "   ('ci_lower', np.float64(0.26328472962568583)),\n",
       "   ('ci_upper', np.float64(0.26603517723106485))),\n",
       "  (('mean', np.float64(0.2651481812308908)),\n",
       "   ('ci_lower', np.float64(0.26366421419500446)),\n",
       "   ('ci_upper', np.float64(0.26603517723106485))))}"
      ]
     },
     "metadata": {},
     "output_type": "display_data"
    }
   ],
   "source": [
    "#for table 2 in the appendix\n",
    "\n",
    "ci_comparison = {key: (ci_replicate[key], ci_reformulated[key], ci_preamble[key], ci_priming[key]) for key in ci_replicate.keys()}\n",
    "\n",
    "display(ci_comparison)"
   ]
  },
  {
   "cell_type": "code",
   "execution_count": 158,
   "id": "36a0ca09",
   "metadata": {},
   "outputs": [
    {
     "data": {
      "text/plain": [
       "{'Gay Marriage': (('mean', np.float64(0.17209795255390464)),\n",
       "  ('ci_lower', np.float64(0.1720979525539047)),\n",
       "  ('ci_upper', np.float64(0.1720979525539047))),\n",
       " 'Refugee Allowing': (('mean', np.float64(0.3077505248224518)),\n",
       "  ('ci_lower', np.float64(0.3007703124666105)),\n",
       "  ('ci_upper', np.float64(0.31458358837137046))),\n",
       " 'Income Inequality': (('mean', np.float64(0.06336619865345999)),\n",
       "  ('ci_lower', np.float64(0.058132128999711326)),\n",
       "  ('ci_upper', np.float64(0.0689189983015691))),\n",
       " 'Gender Role': (('mean', np.float64(0.8096396645660773)),\n",
       "  ('ci_lower', np.float64(0.8011713855238537)),\n",
       "  ('ci_upper', np.float64(0.8182592800163506))),\n",
       " 'Climate Change': (('mean', np.float64(0.21286787095399984)),\n",
       "  ('ci_lower', np.float64(0.207272845263157)),\n",
       "  ('ci_upper', np.float64(0.2186113832584872))),\n",
       " 'Race Diversity': (('mean', np.float64(0.25427702435667304)),\n",
       "  ('ci_lower', np.float64(0.24935972089889055)),\n",
       "  ('ci_upper', np.float64(0.2589382670927961)))}"
      ]
     },
     "metadata": {},
     "output_type": "display_data"
    }
   ],
   "source": [
    "#For table 2 in the appendix\n",
    "\n",
    "display(ci_reverse_coded)"
   ]
  }
 ],
 "metadata": {
  "kernelspec": {
   "display_name": "ml-results-analysis",
   "language": "python",
   "name": "python3"
  },
  "language_info": {
   "codemirror_mode": {
    "name": "ipython",
    "version": 3
   },
   "file_extension": ".py",
   "mimetype": "text/x-python",
   "name": "python",
   "nbconvert_exporter": "python",
   "pygments_lexer": "ipython3",
   "version": "3.11.13"
  }
 },
 "nbformat": 4,
 "nbformat_minor": 5
}
